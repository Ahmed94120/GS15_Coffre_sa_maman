{
 "cells": [
  {
   "cell_type": "markdown",
   "metadata": {},
   "source": [
    "## Création d'un utilisateur\n",
    "\n",
    "Créer un utilisateur et les clés nécessaire au bon fonctionnement du chiffrement"
   ]
  },
  {
   "cell_type": "code",
   "execution_count": null,
   "metadata": {},
   "outputs": [],
   "source": [
    "from key_management.user_enrollment import enroll_user\n",
    "\n",
    "if __name__ == \"__main__\":\n",
    "    username = input(\"Entrez le nom d'utilisateur pour l'enrôlement : \")\n",
    "    enroll_user(username)"
   ]
  },
  {
   "cell_type": "markdown",
   "metadata": {},
   "source": [
    "## Création des S-boxes\n",
    "\n",
    "Afin de faire les permutations nécessaires dans COBRA, nous devons créer des S-boxes afin de permettre de mélanger les caractères de notre par un autre"
   ]
  },
  {
   "cell_type": "code",
   "execution_count": 3,
   "metadata": {},
   "outputs": [
    {
     "name": "stdout",
     "output_type": "stream",
     "text": [
      "S-Box 1 : [6, 3, 11, 10, 0, 4, 1, 8, 14, 15, 9, 5, 2, 13, 12, 7]\n",
      "S-Box 2 : [11, 10, 7, 13, 9, 2, 8, 5, 15, 4, 12, 0, 3, 6, 14, 1]\n",
      "S-Box 3 : [5, 11, 3, 10, 7, 4, 0, 13, 15, 9, 6, 2, 12, 8, 14, 1]\n",
      "S-Box 4 : [8, 11, 1, 6, 12, 10, 4, 15, 0, 7, 3, 13, 9, 14, 5, 2]\n",
      "S-Boxes sauvegardées dans le fichier : encryption\\s_boxes.json\n"
     ]
    }
   ],
   "source": [
    "from pathlib import Path\n",
    "from utils.sboxe import *\n",
    "from storage.sboxes_storage import save_s_boxes_to_file\n",
    "\n",
    "PATH = Path(\"encryption\") / \"s_boxes.json\"\n",
    "\n",
    "if __name__ == \"__main__\":\n",
    "    # Génération de 4 S-Boxes de taille 16 (pour blocs de 4 bits)\n",
    "    s_boxes = generate_multiple_s_boxes(num_s_boxes=4, size=16)\n",
    "\n",
    "    # Affichage des S-Boxes\n",
    "    for i, s_box in enumerate(s_boxes):\n",
    "        print(f\"S-Box {i+1} : {s_box}\")\n",
    "\n",
    "    save_s_boxes_to_file(s_boxes, filename=PATH)"
   ]
  },
  {
   "cell_type": "markdown",
   "metadata": {},
   "source": [
    "## Fonctions Présentent dans encryption/cobra_cipher.py\n",
    "\n",
    "Test des fonctions dans cobra cipher"
   ]
  },
  {
   "cell_type": "code",
   "execution_count": 12,
   "metadata": {},
   "outputs": [
    {
     "name": "stdout",
     "output_type": "stream",
     "text": [
      "Message original : Hello, World! This is a test message.\n",
      "Blocs chiffrés (en octets) : [array([  5,  10,   2,   1,  11,  92,  17, 101,  92,  70, 108, 100,  33,\n",
      "        32,  84, 104], dtype=uint8), array([ 36,  28,  78,   4,  23,  80,  80,  18,  71,  81, 115, 116,  32,\n",
      "       109, 101, 115], dtype=uint8), array([ 62,  14,   9,   8,  74, 123,  58,  57,  56,  63,  11,  11,  11,\n",
      "        11,  11,  11], dtype=uint8)]\n",
      "Message chiffré en texte brut : \u0005\n",
      "\u0002\u0001\u000b\\\u0011e\\Fld! Th$\u001cN\u0004\u0017PP\u0012GQst mes>\u000eJ{:98?\u000b\u000b\u000b\u000b\u000b\u000b\n",
      "Message déchiffré : Hello, World! This is a test message.\n"
     ]
    }
   ],
   "source": [
    "from encryption.cobra_cipher import *\n",
    "\n",
    "# Fonction principale pour le chiffrement\n",
    "def encrypt_message(message, key, block_size=16):\n",
    "    blocks = text_to_blocks(message, block_size)\n",
    "    key_block = key_to_block(key, block_size)\n",
    "    encrypted_blocks = [add_round_key(block, key_block) for block in blocks]\n",
    "    return encrypted_blocks\n",
    "\n",
    "# Déchiffrement (inverse de add_round_key est le XOR avec la même clé)\n",
    "def decrypt_blocks(encrypted_blocks, key, block_size=16):\n",
    "    key_block = key_to_block(key, block_size)\n",
    "    decrypted_blocks = [add_round_key(block, key_block) for block in encrypted_blocks]\n",
    "    decrypted_message = \"\".join(\"\".join(chr(x) for x in block) for block in decrypted_blocks)\n",
    "    # Retirer le padding\n",
    "    padding_length = ord(decrypted_message[-1])\n",
    "    return decrypted_message[:-padding_length]\n",
    "\n",
    "# Afficher les blocs chiffrés en texte clair (illisible humainement mais converti en str)\n",
    "def encrypted_blocks_to_text(encrypted_blocks):\n",
    "    return \"\".join(\"\".join(chr(x) for x in block) for block in encrypted_blocks)\n",
    "\n",
    "# Tester la fonction\n",
    "message = \"Hello, World! This is a test message.\"\n",
    "key = \"Monmdp1234\"\n",
    "\n",
    "# Chiffrement\n",
    "encrypted_blocks = encrypt_message(message, key)\n",
    "encrypted_text = encrypted_blocks_to_text(encrypted_blocks)\n",
    "\n",
    "print(\"Message original :\", message)\n",
    "print(\"Blocs chiffrés (en octets) :\", encrypted_blocks)\n",
    "print(\"Message chiffré en texte brut :\", encrypted_text)\n",
    "\n",
    "# Déchiffrement\n",
    "decrypted_message = decrypt_blocks(encrypted_blocks, key)\n",
    "print(\"Message déchiffré :\", decrypted_message)"
   ]
  }
 ],
 "metadata": {
  "kernelspec": {
   "display_name": "Python 3",
   "language": "python",
   "name": "python3"
  },
  "language_info": {
   "codemirror_mode": {
    "name": "ipython",
    "version": 3
   },
   "file_extension": ".py",
   "mimetype": "text/x-python",
   "name": "python",
   "nbconvert_exporter": "python",
   "pygments_lexer": "ipython3",
   "version": "3.11.9"
  }
 },
 "nbformat": 4,
 "nbformat_minor": 2
}
