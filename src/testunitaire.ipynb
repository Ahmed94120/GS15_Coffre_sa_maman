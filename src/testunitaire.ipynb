{
 "cells": [
  {
   "cell_type": "markdown",
   "metadata": {},
   "source": [
    "## Création d'un utilisateur\n",
    "\n",
    "Créer un utilisateur et les clés nécessaire au bon fonctionnement du chiffrement"
   ]
  },
  {
   "cell_type": "code",
   "execution_count": null,
   "metadata": {},
   "outputs": [],
   "source": [
    "from key_management.user_enrollment import enroll_user\n",
    "\n",
    "if __name__ == \"__main__\":\n",
    "    username = input(\"Entrez le nom d'utilisateur pour l'enrôlement : \")\n",
    "    enroll_user(username)"
   ]
  },
  {
   "cell_type": "markdown",
   "metadata": {},
   "source": [
    "## Création des S-boxes\n",
    "\n",
    "Afin de faire les permutations nécessaires dans COBRA, nous devons créer des S-boxes afin de permettre de mélanger les caractères de notre par un autre"
   ]
  },
  {
   "cell_type": "code",
   "execution_count": 3,
   "metadata": {},
   "outputs": [
    {
     "name": "stdout",
     "output_type": "stream",
     "text": [
      "S-Box 1 : [6, 3, 11, 10, 0, 4, 1, 8, 14, 15, 9, 5, 2, 13, 12, 7]\n",
      "S-Box 2 : [11, 10, 7, 13, 9, 2, 8, 5, 15, 4, 12, 0, 3, 6, 14, 1]\n",
      "S-Box 3 : [5, 11, 3, 10, 7, 4, 0, 13, 15, 9, 6, 2, 12, 8, 14, 1]\n",
      "S-Box 4 : [8, 11, 1, 6, 12, 10, 4, 15, 0, 7, 3, 13, 9, 14, 5, 2]\n",
      "S-Boxes sauvegardées dans le fichier : encryption\\s_boxes.json\n"
     ]
    }
   ],
   "source": [
    "from pathlib import Path\n",
    "from utils.sboxe import *\n",
    "from storage.sboxes_storage import save_s_boxes_to_file\n",
    "\n",
    "PATH = Path(\"encryption\") / \"s_boxes.json\"\n",
    "\n",
    "if __name__ == \"__main__\":\n",
    "    # Génération de 4 S-Boxes de taille 16 (pour blocs de 4 bits)\n",
    "    s_boxes = generate_multiple_s_boxes(num_s_boxes=4, size=16)\n",
    "\n",
    "    # Affichage des S-Boxes\n",
    "    for i, s_box in enumerate(s_boxes):\n",
    "        print(f\"S-Box {i+1} : {s_box}\")\n",
    "\n",
    "    save_s_boxes_to_file(s_boxes, filename=PATH)"
   ]
  },
  {
   "cell_type": "markdown",
   "metadata": {},
   "source": [
    "## Fonctions Présentent dans encryption/cobra_cipher.py\n",
    "\n",
    "Test des fonctions dans cobra cipher"
   ]
  },
  {
   "cell_type": "code",
   "execution_count": 5,
   "metadata": {},
   "outputs": [
    {
     "name": "stdout",
     "output_type": "stream",
     "text": [
      "Texte original : Hello, World!\n",
      "Clé utilisée : Monmdp1234\n",
      "Bloc texte (en octets) : [ 72 101 108 108 111  44  32  87 111 114 108 100  33]\n",
      "Bloc clé (en octets) : [ 77 111 110 109 100 112  49  50  51  52   0   0   0]\n",
      "Résultat XOR (en octets) : [  5  10   2   1  11  92  17 101  92  70 108 100  33]\n",
      "Résultat XOR (en texte) : \u0005\n",
      "\u0002\u0001\u000b\\\u0011e\\Fld!\n"
     ]
    }
   ],
   "source": [
    "from encryption.cobra_cipher import *\n",
    "\n",
    "# Convertir le texte et la clé en blocs numériques\n",
    "def text_to_block(text, block_size):\n",
    "    # Remplissage si nécessaire pour que la taille soit un multiple de block_size\n",
    "    text = text.ljust(block_size, '\\0')\n",
    "    return np.frombuffer(text.encode('utf-8'), dtype=np.uint8)\n",
    "\n",
    "def key_to_block(key, block_size):\n",
    "    key = key.ljust(block_size, '\\0')  # Remplir la clé pour qu'elle corresponde à la taille\n",
    "    return np.frombuffer(key.encode('utf-8'), dtype=np.uint8)\n",
    "\n",
    "# Tester la fonction\n",
    "text = \"Hello, World!\"\n",
    "key = \"Monmdp1234\"\n",
    "\n",
    "# Définir la taille d'un bloc\n",
    "block_size = max(len(text), len(key))\n",
    "\n",
    "# Convertir texte et clé en blocs numériques\n",
    "text_block = text_to_block(text, block_size)\n",
    "key_block = key_to_block(key, block_size)\n",
    "\n",
    "# Appliquer add_round_key\n",
    "result = add_round_key(text_block, key_block)\n",
    "\n",
    "# Afficher les résultats\n",
    "print(\"Texte original :\", text)\n",
    "print(\"Clé utilisée :\", key)\n",
    "print(\"Bloc texte (en octets) :\", text_block)\n",
    "print(\"Bloc clé (en octets) :\", key_block)\n",
    "print(\"Résultat XOR (en octets) :\", result)\n",
    "print(\"Résultat XOR (en texte) :\", \"\".join(chr(x) for x in result))"
   ]
  }
 ],
 "metadata": {
  "kernelspec": {
   "display_name": "Python 3",
   "language": "python",
   "name": "python3"
  },
  "language_info": {
   "codemirror_mode": {
    "name": "ipython",
    "version": 3
   },
   "file_extension": ".py",
   "mimetype": "text/x-python",
   "name": "python",
   "nbconvert_exporter": "python",
   "pygments_lexer": "ipython3",
   "version": "3.11.9"
  }
 },
 "nbformat": 4,
 "nbformat_minor": 2
}
