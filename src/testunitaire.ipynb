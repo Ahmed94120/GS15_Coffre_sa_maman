{
 "cells": [
  {
   "cell_type": "markdown",
   "metadata": {},
   "source": [
    "## Création d'un utilisateur\n",
    "\n",
    "Créer un utilisateur et les clés nécessaire au bon fonctionnement du chiffrement"
   ]
  },
  {
   "cell_type": "code",
   "execution_count": 98,
   "metadata": {},
   "outputs": [
    {
     "name": "stdout",
     "output_type": "stream",
     "text": [
      "Utilisateur 'Moi' enrôlé avec succès. Les clés sont stockées dans './users/Moi'\n"
     ]
    }
   ],
   "source": [
    "from key_management.user_enrollment import enroll_user\n",
    "\n",
    "if __name__ == \"__main__\":\n",
    "    username = input(\"Entrez le nom d'utilisateur pour l'enrôlement : \")\n",
    "    enroll_user(username)"
   ]
  },
  {
   "cell_type": "markdown",
   "metadata": {},
   "source": [
    "## Création des S-boxes\n",
    "\n",
    "Afin de faire les permutations nécessaires dans COBRA, nous devons créer des S-boxes afin de permettre de mélanger les caractères de notre par un autre"
   ]
  },
  {
   "cell_type": "code",
   "execution_count": 6,
   "metadata": {},
   "outputs": [
    {
     "name": "stdout",
     "output_type": "stream",
     "text": [
      "S-Box 1 : [0, 6, 15, 13, 14, 10, 12, 1, 2, 4, 7, 9, 5, 3, 8, 11]\n",
      "S-Box 2 : [15, 8, 7, 1, 0, 2, 4, 12, 10, 13, 3, 9, 14, 11, 5, 6]\n",
      "S-Box 3 : [6, 7, 2, 13, 3, 0, 15, 4, 9, 10, 12, 8, 11, 1, 5, 14]\n",
      "S-Box 4 : [10, 4, 0, 3, 9, 12, 13, 6, 7, 1, 14, 5, 2, 15, 11, 8]\n",
      "S-Boxes sauvegardées dans le fichier : encryption\\s_boxes.json\n",
      "S-Box inverse 1 : [0, 7, 8, 13, 9, 12, 1, 10, 14, 11, 5, 15, 6, 3, 4, 2]\n",
      "S-Box inverse 2 : [4, 3, 5, 10, 6, 14, 15, 2, 1, 11, 8, 13, 7, 9, 12, 0]\n",
      "S-Box inverse 3 : [5, 13, 2, 4, 7, 14, 0, 1, 11, 8, 9, 12, 10, 3, 15, 6]\n",
      "S-Box inverse 4 : [2, 9, 12, 3, 1, 11, 7, 8, 15, 4, 0, 14, 5, 6, 10, 13]\n",
      "S-Boxes sauvegardées dans le fichier : encryption\\inverted_s_boxes.json\n"
     ]
    }
   ],
   "source": [
    "from pathlib import Path\n",
    "from outils.sboxes import generate_multiple_s_boxes, generate_inverse_s_boxes\n",
    "from storage.sboxes_storage import save_s_boxes_to_file\n",
    "\n",
    "PATH = Path(\"encryption\")\n",
    "\n",
    "\n",
    "if __name__ == \"__main__\":\n",
    "    # Génération de 4 S-Boxes de taille 16 (pour blocs de 4 bits)\n",
    "    s_boxes = generate_multiple_s_boxes(num_s_boxes=4, size=16)\n",
    "\n",
    "    # Affichage des S-Boxes\n",
    "    for i, s_box in enumerate(s_boxes):\n",
    "        print(f\"S-Box {i+1} : {s_box}\")\n",
    "\n",
    "    save_s_boxes_to_file(s_boxes, filename=PATH / \"s_boxes.json\")\n",
    "\n",
    "    # Génération des S-Boxes inverses\n",
    "    inverted_s_boxes = generate_inverse_s_boxes(s_boxes)\n",
    "\n",
    "    # Affichage des S-Boxes inverses\n",
    "    for i, inv_s_box in enumerate(inverted_s_boxes):\n",
    "        print(f\"S-Box inverse {i+1} : {inv_s_box}\")\n",
    "\n",
    "    save_s_boxes_to_file(inverted_s_boxes, filename=PATH /\"inverted_s_boxes.json\")\n",
    "    "
   ]
  },
  {
   "cell_type": "markdown",
   "metadata": {},
   "source": [
    "## Fonctions Présentent dans encryption/cobra_cipher.py\n",
    "\n",
    "Test des fonctions dans cobra cipher"
   ]
  },
  {
   "cell_type": "markdown",
   "metadata": {},
   "source": [
    "## XOR"
   ]
  },
  {
   "cell_type": "code",
   "execution_count": null,
   "metadata": {},
   "outputs": [
    {
     "name": "stdout",
     "output_type": "stream",
     "text": [
      "Message chiffré (bytes): [  5  10   2   1  11  92  17 101  92  70  33  11  79  77  48  24  36  28\n",
      "  78   4  23  80  80  18  71  81  62  27  78   0   1   3  62  14   9   8\n",
      "  68  22  94  64  19 103  40  29  30   8  10   4 109  10   0  14  22   9\n",
      "  65  70  90  91  35  65 106 105  96 116]\n",
      "Message déchiffré: Hello, World! This is a test message for Serpent encryption.\n"
     ]
    }
   ],
   "source": [
    "from encryption.xor import *\n",
    "\n",
    "# Exemple d'utilisation\n",
    "message = \"Hello, World! This is a test message.\"\n",
    "key = \"Monmdp1234\"\n",
    "\n",
    "# Chiffrer le message\n",
    "encrypted_message = encrypt_message_with_key(message, key)\n",
    "print(\"Message chiffré (bytes):\", encrypted_message)\n",
    "\n",
    "# Déchiffrer le message\n",
    "decrypted_message = decrypt_message_with_key(encrypted_message, key)\n",
    "print(\"Message déchiffré:\", decrypted_message)"
   ]
  },
  {
   "cell_type": "markdown",
   "metadata": {},
   "source": [
    "## Permutation"
   ]
  },
  {
   "cell_type": "code",
   "execution_count": null,
   "metadata": {},
   "outputs": [
    {
     "name": "stdout",
     "output_type": "stream",
     "text": [
      "S-Boxes chargées depuis le fichier : encryption\\s_boxes.json\n",
      "S-Boxes chargées depuis le fichier : encryption\\inverted_s_boxes.json\n",
      "Blocs binaires : [4, 8, 6, 5, 6, 12, 6, 12, 6, 15, 2, 12, 2, 0, 5, 7, 6, 15, 7, 2, 6, 12, 6, 4, 2, 1, 2, 0, 5, 4, 6, 8, 6, 9, 7, 3, 2, 0, 6, 9, 7, 3, 2, 0, 6, 1, 2, 0, 7, 4, 6, 5, 7, 3, 7, 4, 2, 0, 6, 13, 6, 5, 7, 3, 7, 3, 6, 1, 6, 7, 6, 5, 2, 14]\n",
      "Blocs chiffrés : [5, 10, 15, 3, 15, 1, 15, 1, 15, 0, 11, 1, 11, 13, 3, 9, 15, 0, 9, 11, 15, 1, 15, 5, 11, 4, 11, 13, 3, 5, 15, 10, 15, 7, 9, 2, 11, 13, 15, 7, 9, 2, 11, 13, 15, 4, 11, 13, 9, 5, 15, 3, 9, 2, 9, 5, 11, 13, 15, 8, 15, 3, 9, 2, 9, 2, 15, 4, 15, 9, 15, 3, 11, 14]\n",
      "Message déchiffré : Hello, World! This is a test message.\n"
     ]
    }
   ],
   "source": [
    "import random\n",
    "from encryption.substitution import *"
   ]
  },
  {
   "cell_type": "markdown",
   "metadata": {},
   "source": [
    "## Combinaisons des Fonctions\n",
    "\n",
    "Combinaisons des fonctions comme si nous voulons chiffrer un message"
   ]
  },
  {
   "cell_type": "code",
   "execution_count": null,
   "metadata": {},
   "outputs": [
    {
     "name": "stdout",
     "output_type": "stream",
     "text": [
      "S-Boxes chargées depuis le fichier : encryption\\s_boxes.json\n",
      "S-Boxes chargées depuis le fichier : encryption\\inverted_s_boxes.json\n",
      "Message original : Hello, World! This is a test message.\n",
      "encrypted_text : \u0005\n",
      "\u0002\u0001\u000b\\\u0011e\\Fld! Th$\u001cN\u0004\u0017PP\u0012GQst mes>\u000eJ{:98?\u000b\u000b\u000b\u000b\u000b\u000b\n",
      "Blocs chiffrés : [0, 6, 7, 1, 7, 2, 7, 2, 7, 13, 9, 2, 9, 14, 1, 5, 7, 13, 5, 9, 7, 2, 7, 0, 9, 15, 9, 14, 1, 0, 7, 6, 7, 8, 5, 12, 9, 14, 7, 8, 5, 12, 9, 14, 7, 15, 9, 14, 5, 0, 7, 1, 5, 12, 5, 0, 9, 14, 7, 3, 7, 1, 5, 12, 5, 12, 7, 15, 7, 5, 7, 1, 9, 10]\n",
      "\n",
      "###########################\n",
      "\n",
      "ús~ÄGv~ÏK~K~~OKO~KKx\n"
     ]
    }
   ],
   "source": []
  }
 ],
 "metadata": {
  "kernelspec": {
   "display_name": "Python 3",
   "language": "python",
   "name": "python3"
  },
  "language_info": {
   "codemirror_mode": {
    "name": "ipython",
    "version": 3
   },
   "file_extension": ".py",
   "mimetype": "text/x-python",
   "name": "python",
   "nbconvert_exporter": "python",
   "pygments_lexer": "ipython3",
   "version": "3.11.9"
  }
 },
 "nbformat": 4,
 "nbformat_minor": 2
}
